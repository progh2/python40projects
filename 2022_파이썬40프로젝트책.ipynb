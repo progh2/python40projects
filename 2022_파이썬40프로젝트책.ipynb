{
  "nbformat": 4,
  "nbformat_minor": 0,
  "metadata": {
    "colab": {
      "name": "2022_파이썬40프로젝트책.ipynb",
      "provenance": [],
      "collapsed_sections": [],
      "toc_visible": true,
      "authorship_tag": "ABX9TyOdSxbaY6kGgeuK26Q1DzfR",
      "include_colab_link": true
    },
    "kernelspec": {
      "name": "python3",
      "display_name": "Python 3"
    },
    "language_info": {
      "name": "python"
    }
  },
  "cells": [
    {
      "cell_type": "markdown",
      "metadata": {
        "id": "view-in-github",
        "colab_type": "text"
      },
      "source": [
        "<a href=\"https://colab.research.google.com/github/progh2/python40projects/blob/main/2022_%ED%8C%8C%EC%9D%B4%EC%8D%AC40%ED%94%84%EB%A1%9C%EC%A0%9D%ED%8A%B8%EC%B1%85.ipynb\" target=\"_parent\"><img src=\"https://colab.research.google.com/assets/colab-badge.svg\" alt=\"Open In Colab\"/></a>"
      ]
    },
    {
      "cell_type": "markdown",
      "source": [
        "# 00.소개\n",
        "![책표지](https://bookthumb-phinf.pstatic.net/cover/219/828/21982844.jpg?type=m140&udate=20220221)\n",
        "\n",
        "* [(만들면서 배우는) 파이썬과 40개의 작품들 ](https://book.naver.com/bookdb/book_detail.naver?bid=21982844)\n",
        "소스 실습 모음입니다. \n",
        "* 2022년도 컴퓨터과학 교양서 한 달 한 권 책 읽기 모임 4월~5월 읽기 도서입니다.\n",
        "* 아래 코드에는 책 내용의 코드를 코랩에서 동작할 수 있도록 수정된 부분이 있습니다.\n",
        "* Colab 주소: https://colab.research.google.com/drive/1puAcdT3xjzBEtxE3g3H1D3TAy0yUP97R?usp=sharing\n",
        "* Github 주소: https://github.com/progh2/python40projects"
      ],
      "metadata": {
        "id": "C7bI1vajU5pY"
      }
    },
    {
      "cell_type": "markdown",
      "source": [
        "# 01.숫자 맞추기 게임 만들기"
      ],
      "metadata": {
        "id": "iKmUpXZ4U5DA"
      }
    },
    {
      "cell_type": "code",
      "execution_count": null,
      "metadata": {
        "colab": {
          "base_uri": "https://localhost:8080/"
        },
        "id": "6XeWEuobLCjY",
        "outputId": "b9bab1d9-c7ba-47ed-d6bd-e1a5b9b4d144"
      },
      "outputs": [
        {
          "output_type": "stream",
          "name": "stdout",
          "text": [
            "1~100 사이의 숫자를 입력하세요: 1\n",
            "업\n",
            "1~100 사이의 숫자를 입력하세요: 50\n",
            "다운\n",
            "1~100 사이의 숫자를 입력하세요: 25\n",
            "다운\n",
            "1~100 사이의 숫자를 입력하세요: 15\n",
            "업\n",
            "1~100 사이의 숫자를 입력하세요: 19\n",
            "업\n",
            "1~100 사이의 숫자를 입력하세요: 20\n",
            "축하합니다. 6회 만에 맞추었습니다.\n"
          ]
        }
      ],
      "source": [
        "import random\n",
        "\n",
        "\n",
        "random_number = random.randint(1, 100)\n",
        "# print(random_number)\n",
        "\n",
        "game_count = 1\n",
        "\n",
        "while True:\n",
        "  try:\n",
        "    my_number = int(input(\"1~100 사이의 숫자를 입력하세요: \"))\n",
        "    if my_number > random_number:\n",
        "      print(\"다운\")\n",
        "    elif my_number < random_number:\n",
        "      print(\"업\")\n",
        "    elif my_number == random_number:\n",
        "      print(f\"축하합니다. {game_count}회 만에 맞추었습니다.\")\n",
        "      break\n",
        "    \n",
        "    game_count = game_count + 1\n",
        "  except:\n",
        "    print(\"에러가 발생했습니다. 숫자만 입력하세요\")\n"
      ]
    },
    {
      "cell_type": "markdown",
      "source": [
        "# 02.컴퓨터 외부 및 내부 IP 확인하기"
      ],
      "metadata": {
        "id": "7SZEbTj_Lffs"
      }
    },
    {
      "cell_type": "markdown",
      "source": [
        "## 내부, 외부 IP 한 번에 출력하는 코드(p.85)"
      ],
      "metadata": {
        "id": "dNEJsKGtLigj"
      }
    },
    {
      "cell_type": "code",
      "source": [
        "# main2-4.py\n",
        "import socket\n",
        "import requests\n",
        "import re\n",
        "\n",
        "\n",
        "in_addr = socket.socket(socket.AF_INET, socket.SOCK_STREAM)\n",
        "in_addr.connect((\"www.google.co.kr\", 443))\n",
        "print(\"내부 IP: \", in_addr.getsockname()[0])\n",
        "\n",
        "# 책의 original code. 하지만 코랩에서는 ipconfig.kr이 동작하지 않는다.\n",
        "#req = requests.get(\"http://ipconfig.kr/\")  \n",
        "# 에러가 한글이 깨져서 나오는데 이를 출력하기위한 코드\n",
        "#req.raise_for_status()\n",
        "#req.encoding=\"EUC-KR\"\n",
        "#print(req.text)\n",
        "#out_addr = re.search(r'IP Address : (\\d{1,3}\\.\\d{1,3}\\.\\d{1,3}\\.\\d{1,3})', req.text)[1]\n",
        "\n",
        "# 코랩에서도 외부 아이피를 알기 위한 변경된 코드\n",
        "req = requests.get(\"https://www.myip.com/\")   \n",
        "# <span id=\"ip\">34.73.104.121</span> 와 같은 식으로 나타내기 때문에 이를 추출하도록 패턴 변경\n",
        "out_addr = re.search(r'<span id=\"ip\">(\\d{1,3}\\.\\d{1,3}\\.\\d{1,3}\\.\\d{1,3})</span>', req.text)[1]\n",
        "print(\"외부 IP: \", out_addr)\n"
      ],
      "metadata": {
        "colab": {
          "base_uri": "https://localhost:8080/"
        },
        "id": "7iJI66lvLngl",
        "outputId": "d6f85f29-935c-4fb6-e479-fcabd93773ab"
      },
      "execution_count": null,
      "outputs": [
        {
          "output_type": "stream",
          "name": "stdout",
          "text": [
            "내부 IP:  172.28.0.2\n",
            "외부 IP:  34.73.104.121\n"
          ]
        }
      ]
    },
    {
      "cell_type": "markdown",
      "source": [
        "# 03.텍스트를 음성으로 변환하기"
      ],
      "metadata": {
        "id": "Lu-Nnfjf4K6g"
      }
    },
    {
      "cell_type": "markdown",
      "source": [
        "## 사전 필요 라이브러리 설치\n",
        "* gtts : 문자를 음성으로 변환해주는 라이브러리\n",
        "* playsound : 사운드 재생 라이브러리. (하지만 코랩에서는 동작하지 않는다!!)\n"
      ],
      "metadata": {
        "id": "v652z7Bv4bsS"
      }
    },
    {
      "cell_type": "code",
      "source": [
        "!pip install gtts\n",
        "!pip install playsound"
      ],
      "metadata": {
        "colab": {
          "base_uri": "https://localhost:8080/"
        },
        "id": "2yJxfSN54YO4",
        "outputId": "12f04ee0-4c67-419f-c4b2-a385f071c154"
      },
      "execution_count": 1,
      "outputs": [
        {
          "output_type": "stream",
          "name": "stdout",
          "text": [
            "Requirement already satisfied: gtts in /usr/local/lib/python3.7/dist-packages (2.2.4)\n",
            "Requirement already satisfied: six in /usr/local/lib/python3.7/dist-packages (from gtts) (1.15.0)\n",
            "Requirement already satisfied: requests in /usr/local/lib/python3.7/dist-packages (from gtts) (2.23.0)\n",
            "Requirement already satisfied: click in /usr/local/lib/python3.7/dist-packages (from gtts) (7.1.2)\n",
            "Requirement already satisfied: idna<3,>=2.5 in /usr/local/lib/python3.7/dist-packages (from requests->gtts) (2.10)\n",
            "Requirement already satisfied: certifi>=2017.4.17 in /usr/local/lib/python3.7/dist-packages (from requests->gtts) (2021.10.8)\n",
            "Requirement already satisfied: chardet<4,>=3.0.2 in /usr/local/lib/python3.7/dist-packages (from requests->gtts) (3.0.4)\n",
            "Requirement already satisfied: urllib3!=1.25.0,!=1.25.1,<1.26,>=1.21.1 in /usr/local/lib/python3.7/dist-packages (from requests->gtts) (1.24.3)\n",
            "Requirement already satisfied: playsound in /usr/local/lib/python3.7/dist-packages (1.3.0)\n"
          ]
        }
      ]
    },
    {
      "cell_type": "markdown",
      "source": [
        "## 코랩에서 사운드 재생하기\n",
        "코랩에서는 playsound가 동작하지 않는다.\n",
        "대신 Audio 라이브러리를 사용해서 재생할 수 있도록 가능하다. \n",
        "- 참고 링크1 : https://jimmy-ai.tistory.com/25 \n",
        "- 참고 링크2 : https://colab.research.google.com/drive/1--xY78_ZTFwpI7F2ZfaeyFKiAOG2nkwd#scrollTo=mJr7MDls3RIe"
      ],
      "metadata": {
        "id": "UWbt0LYF7fQA"
      }
    },
    {
      "cell_type": "markdown",
      "source": [
        "## gTTS로 글자 재생하기"
      ],
      "metadata": {
        "id": "MkbwtaS39CJ9"
      }
    },
    {
      "cell_type": "code",
      "source": [
        "# main3-1.py\n",
        "from gtts import gTTS\n",
        "from IPython.display import Audio \n",
        "\n",
        "text = \"안녕하세요. 파이썬과 40개의 작품들입니다.\"\n",
        "tts = gTTS(text=text, lang='ko')\n",
        "tts.save(r\"hi.mp3\")\n",
        "display(Audio('hi.mp3', autoplay=True))"
      ],
      "metadata": {
        "id": "gJvcTAlxOAiR",
        "colab": {
          "base_uri": "https://localhost:8080/",
          "height": 74
        },
        "outputId": "2de1a425-bff3-496f-faf2-fcbfb4ca5147"
      },
      "execution_count": 4,
      "outputs": [
        {
          "output_type": "display_data",
          "data": {
            "text/plain": [
              "<IPython.lib.display.Audio object>"
            ],
            "text/html": [
              "\n",
              "                <audio controls=\"controls\" autoplay=\"autoplay\">\n",
              "                    <source src=\"data:audio/mpeg;base64,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\" type=\"audio/mpeg\" />\n",
              "                    Your browser does not support the audio element.\n",
              "                </audio>\n",
              "              "
            ]
          },
          "metadata": {}
        }
      ]
    },
    {
      "cell_type": "markdown",
      "source": [
        "## 텍스트를 음성으로 변환, 재생하기"
      ],
      "metadata": {
        "id": "EXfr0WubLmh-"
      }
    },
    {
      "cell_type": "code",
      "source": [
        "# main3-3.py\n",
        "from gtts import gTTS\n",
        "from IPython.display import Audio \n",
        "\n",
        "!rm 나의텍스트.txt 2> /dev/null\n",
        "!wget \"https://gist.githubusercontent.com/progh2/74bbc3670ce5221d88049551ec4ce2a2/raw/2b567a9f2e9f3233b45b0819703c657ced01aa0f/%25EB%2582%2598%25EC%259D%2598%25ED%2585%258D%25EC%258A%25A4%25ED%258A%25B8.txt\" -c \"나의텍스트.txt\"\n",
        "file_path = r'나의텍스트.txt'\n",
        "with open(file_path, 'rt', encoding='UTF8') as f:\n",
        "  read_file = f.read()\n",
        "tts = gTTS(text=read_file, lang='ko')\n",
        "tts.save(r\"나의텍스트.mp3\")\n",
        "display(Audio('나의텍스트.mp3', autoplay=True))"
      ],
      "metadata": {
        "colab": {
          "base_uri": "https://localhost:8080/",
          "height": 425
        },
        "id": "a1zlanFf9Kum",
        "outputId": "2a8b46e8-bd3d-4e56-b477-3e27cafa5437"
      },
      "execution_count": 18,
      "outputs": [
        {
          "output_type": "stream",
          "name": "stdout",
          "text": [
            "rm: cannot remove 'file_path': No such file or directory\n",
            "--2022-04-27 04:06:55--  https://gist.githubusercontent.com/progh2/74bbc3670ce5221d88049551ec4ce2a2/raw/2b567a9f2e9f3233b45b0819703c657ced01aa0f/%25EB%2582%2598%25EC%259D%2598%25ED%2585%258D%25EC%258A%25A4%25ED%258A%25B8.txt\n",
            "Resolving gist.githubusercontent.com (gist.githubusercontent.com)... 185.199.108.133, 185.199.109.133, 185.199.110.133, ...\n",
            "Connecting to gist.githubusercontent.com (gist.githubusercontent.com)|185.199.108.133|:443... connected.\n",
            "HTTP request sent, awaiting response... 200 OK\n",
            "Length: 97 [text/plain]\n",
            "Saving to: ‘나의텍스트.txt’\n",
            "\n",
            "나의텍스트.txt      100%[===================>]      97  --.-KB/s    in 0s      \n",
            "\n",
            "2022-04-27 04:06:55 (5.25 MB/s) - ‘나의텍스트.txt’ saved [97/97]\n",
            "\n",
            "--2022-04-27 04:06:55--  http://file_path/\n",
            "Resolving file_path (file_path)... failed: Name or service not known.\n",
            "wget: unable to resolve host address ‘file_path’\n",
            "FINISHED --2022-04-27 04:06:55--\n",
            "Total wall clock time: 0.2s\n",
            "Downloaded: 1 files, 97 in 0s (5.25 MB/s)\n"
          ]
        },
        {
          "output_type": "display_data",
          "data": {
            "text/plain": [
              "<IPython.lib.display.Audio object>"
            ],
            "text/html": [
              "\n",
              "                <audio controls=\"controls\" autoplay=\"autoplay\">\n",
              "                    <source src=\"data:audio/mpeg;base64,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\" type=\"audio/mpeg\" />\n",
              "                    Your browser does not support the audio element.\n",
              "                </audio>\n",
              "              "
            ]
          },
          "metadata": {}
        }
      ]
    },
    {
      "cell_type": "markdown",
      "source": [
        "# 04.QR코드 생성기\n",
        "- https://pypi.org/project/qrcode/"
      ],
      "metadata": {
        "id": "zapeY6mDLIRj"
      }
    },
    {
      "cell_type": "markdown",
      "source": [
        "## QR코드 라이브러리 설치"
      ],
      "metadata": {
        "id": "UL1bh7h_Lcn3"
      }
    },
    {
      "cell_type": "code",
      "source": [
        "!pip install qrcode"
      ],
      "metadata": {
        "colab": {
          "base_uri": "https://localhost:8080/"
        },
        "id": "neyaue9i9v46",
        "outputId": "86fe9462-35b2-49a4-90de-953d83baa3ed"
      },
      "execution_count": 12,
      "outputs": [
        {
          "output_type": "stream",
          "name": "stdout",
          "text": [
            "Collecting qrcode\n",
            "  Downloading qrcode-7.3.1.tar.gz (43 kB)\n",
            "\u001b[?25l\r\u001b[K     |███████▌                        | 10 kB 17.5 MB/s eta 0:00:01\r\u001b[K     |███████████████                 | 20 kB 9.5 MB/s eta 0:00:01\r\u001b[K     |██████████████████████▋         | 30 kB 7.9 MB/s eta 0:00:01\r\u001b[K     |██████████████████████████████▏ | 40 kB 7.4 MB/s eta 0:00:01\r\u001b[K     |████████████████████████████████| 43 kB 929 kB/s \n",
            "\u001b[?25hBuilding wheels for collected packages: qrcode\n",
            "  Building wheel for qrcode (setup.py) ... \u001b[?25l\u001b[?25hdone\n",
            "  Created wheel for qrcode: filename=qrcode-7.3.1-py3-none-any.whl size=40402 sha256=a7866fb87ecd3ed4dfffe574aef374577a5702c5f8b7cb723af67c9bdfc9daff\n",
            "  Stored in directory: /root/.cache/pip/wheels/93/d7/39/a4111be2cfb8e679938aa671a37888b6afb1f9e7d748e94492\n",
            "Successfully built qrcode\n",
            "Installing collected packages: qrcode\n",
            "Successfully installed qrcode-7.3.1\n"
          ]
        }
      ]
    },
    {
      "cell_type": "markdown",
      "source": [
        "## url 기반 QR코드 생성 및 실행"
      ],
      "metadata": {
        "id": "zTd_5Xt1LfMI"
      }
    },
    {
      "cell_type": "code",
      "source": [
        "import qrcode\n",
        "\n",
        "qr_data=\"www.naver.com\"\n",
        "qr_img = qrcode.make(qr_data)\n",
        "save_path = qr_data + \".png\"\n",
        "qr_img.save(save_path)"
      ],
      "metadata": {
        "id": "qNM5Ck7QLNy7"
      },
      "execution_count": 13,
      "outputs": []
    },
    {
      "cell_type": "markdown",
      "source": [
        "## 만들어진 이미지 출력"
      ],
      "metadata": {
        "id": "tMGWlTQ_Lvnh"
      }
    },
    {
      "cell_type": "code",
      "source": [
        "from IPython.display import Image\n",
        "Image(save_path)"
      ],
      "metadata": {
        "colab": {
          "base_uri": "https://localhost:8080/",
          "height": 307
        },
        "id": "QOzAcBVTLYaj",
        "outputId": "2f845f2c-aa41-4ca8-ec7a-eb80064e45ad"
      },
      "execution_count": 16,
      "outputs": [
        {
          "output_type": "execute_result",
          "data": {
            "text/plain": [
              "<IPython.core.display.Image object>"
            ],
            "image/png": "[encoded data removed]"
          },
          "metadata": {},
          "execution_count": 16
        }
      ]
    },
    {
      "cell_type": "markdown",
      "source": [
        "## 여러 개의 QR코드를 한번에 생성"
      ],
      "metadata": {
        "id": "VO4JOU4kSfnv"
      }
    },
    {
      "cell_type": "code",
      "source": [
        "# main4-2.py\n",
        "from IPython.display import Image\n",
        "\n",
        "file_path=r\"qr코드모음.txt\"\n",
        "!rm qr코드모음.txt 2> /dev/null\n",
        "!wget \"https://gist.githubusercontent.com/progh2/4a4465b441786dc4d797d7e2ae33696e/raw/c23db9c4263e3d6e085677846d71ddcb6664f0d2/qr%25EC%25BD%2594%25EB%2593%259C%25EB%25AA%25A8%25EC%259D%258C.txt\" \n",
        "with open(file_path, 'rt', encoding='UTF8') as f:\n",
        "  read_lines = f.readlines()\n",
        "  for idx, line in enumerate(read_lines):\n",
        "    line = line.strip()\n",
        "    print(line)\n",
        "\n",
        "    qr_data = line\n",
        "    qr_img = qrcode.make(qr_data)\n",
        "    save_path= 'qr'+ str(idx + 1) + '.png'\n",
        "    !rm save_path 2>/dev/null\n",
        "    qr_img.save(save_path)\n",
        "    Image(save_path)\n",
        "    \n",
        "  "
      ],
      "metadata": {
        "colab": {
          "base_uri": "https://localhost:8080/"
        },
        "id": "gKWxrR48LsEL",
        "outputId": "18927b15-3d33-452b-a2e5-7537f083de50"
      },
      "execution_count": 50,
      "outputs": [
        {
          "output_type": "stream",
          "name": "stdout",
          "text": [
            "--2022-04-27 04:31:30--  https://gist.githubusercontent.com/progh2/4a4465b441786dc4d797d7e2ae33696e/raw/c23db9c4263e3d6e085677846d71ddcb6664f0d2/qr%25EC%25BD%2594%25EB%2593%259C%25EB%25AA%25A8%25EC%259D%258C.txt\n",
            "Resolving gist.githubusercontent.com (gist.githubusercontent.com)... 185.199.110.133, 185.199.108.133, 185.199.109.133, ...\n",
            "Connecting to gist.githubusercontent.com (gist.githubusercontent.com)|185.199.110.133|:443... connected.\n",
            "HTTP request sent, awaiting response... 200 OK\n",
            "Length: 73 [text/plain]\n",
            "Saving to: ‘qr코드모음.txt’\n",
            "\n",
            "\rqr코드모음.txt        0%[                    ]       0  --.-KB/s               \rqr코드모음.txt      100%[===================>]      73  --.-KB/s    in 0s      \n",
            "\n",
            "2022-04-27 04:31:30 (3.26 MB/s) - ‘qr코드모음.txt’ saved [73/73]\n",
            "\n",
            "www.naver.com\n",
            "www.google.com\n",
            "www.daum.net\n",
            "www.daduino.co.kr\n",
            "www.nate.com\n"
          ]
        }
      ]
    },
    {
      "cell_type": "markdown",
      "source": [
        "## 여러개의 이미지 파일을 찾아서 한번에 출력하기\n",
        "- 참고 : https://blog.daum.net/geoscience/1263"
      ],
      "metadata": {
        "id": "U5qIi1v6SkpL"
      }
    },
    {
      "cell_type": "code",
      "source": [
        "import matplotlib.pyplot as plt\n",
        "import glob\n",
        "import cv2\n",
        "\n",
        "fig = plt.figure()\n",
        "rows = 1\n",
        "cols = 5\n",
        "i = 1\n",
        "qrfiles = glob.glob(\"qr*.png\")\n",
        "qrfiles.sort()\n",
        "for filename in qrfiles:\n",
        "  img = cv2.imread(filename)\n",
        "  ax = fig.add_subplot(rows, cols, i)\n",
        "  ax.imshow(cv2.cvtColor(img, cv2.COLOR_BGR2RGB))\n",
        "  ax.set_xlabel(filename)\n",
        "  ax.set_xticks([]), ax.set_yticks([])\n",
        "  i += 1"
      ],
      "metadata": {
        "colab": {
          "base_uri": "https://localhost:8080/",
          "height": 103
        },
        "id": "CfkfqsLvQPUK",
        "outputId": "2ac0f99e-2bdf-4621-aa3b-d883f4e88156"
      },
      "execution_count": 51,
      "outputs": [
        {
          "output_type": "display_data",
          "data": {
            "text/plain": [
              "<Figure size 432x288 with 5 Axes>"
            ],
            "image/png": "[encoded data removed]"
          },
          "metadata": {}
        }
      ]
    },
    {
      "cell_type": "code",
      "source": [
        ""
      ],
      "metadata": {
        "id": "JU-3e5ahQsXf"
      },
      "execution_count": null,
      "outputs": []
    }
  ]
}