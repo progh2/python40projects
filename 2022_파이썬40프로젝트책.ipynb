{
  "nbformat": 4,
  "nbformat_minor": 0,
  "metadata": {
    "colab": {
      "name": "2022_파이썬40프로젝트책.ipynb",
      "provenance": [],
      "collapsed_sections": [],
      "authorship_tag": "ABX9TyPApf/sc5DKDCl7wgmYY9lB",
      "include_colab_link": true
    },
    "kernelspec": {
      "name": "python3",
      "display_name": "Python 3"
    },
    "language_info": {
      "name": "python"
    }
  },
  "cells": [
    {
      "cell_type": "markdown",
      "metadata": {
        "id": "view-in-github",
        "colab_type": "text"
      },
      "source": [
        "<a href=\"https://colab.research.google.com/github/progh2/python40projects/blob/main/2022_%ED%8C%8C%EC%9D%B4%EC%8D%AC40%ED%94%84%EB%A1%9C%EC%A0%9D%ED%8A%B8%EC%B1%85.ipynb\" target=\"_parent\"><img src=\"https://colab.research.google.com/assets/colab-badge.svg\" alt=\"Open In Colab\"/></a>"
      ]
    },
    {
      "cell_type": "markdown",
      "source": [
        ""
      ],
      "metadata": {
        "id": "C7bI1vajU5pY"
      }
    },
    {
      "cell_type": "markdown",
      "source": [
        "# Project01 숫자 맞추기 게임 만들기"
      ],
      "metadata": {
        "id": "iKmUpXZ4U5DA"
      }
    },
    {
      "cell_type": "code",
      "execution_count": 27,
      "metadata": {
        "colab": {
          "base_uri": "https://localhost:8080/"
        },
        "id": "6XeWEuobLCjY",
        "outputId": "b9bab1d9-c7ba-47ed-d6bd-e1a5b9b4d144"
      },
      "outputs": [
        {
          "output_type": "stream",
          "name": "stdout",
          "text": [
            "1~100 사이의 숫자를 입력하세요: 1\n",
            "업\n",
            "1~100 사이의 숫자를 입력하세요: 50\n",
            "다운\n",
            "1~100 사이의 숫자를 입력하세요: 25\n",
            "다운\n",
            "1~100 사이의 숫자를 입력하세요: 15\n",
            "업\n",
            "1~100 사이의 숫자를 입력하세요: 19\n",
            "업\n",
            "1~100 사이의 숫자를 입력하세요: 20\n",
            "축하합니다. 6회 만에 맞추었습니다.\n"
          ]
        }
      ],
      "source": [
        "import random\n",
        "\n",
        "\n",
        "random_number = random.randint(1, 100)\n",
        "# print(random_number)\n",
        "\n",
        "game_count = 1\n",
        "\n",
        "while True:\n",
        "  try:\n",
        "    my_number = int(input(\"1~100 사이의 숫자를 입력하세요: \"))\n",
        "    if my_number > random_number:\n",
        "      print(\"다운\")\n",
        "    elif my_number < random_number:\n",
        "      print(\"업\")\n",
        "    elif my_number == random_number:\n",
        "      print(f\"축하합니다. {game_count}회 만에 맞추었습니다.\")\n",
        "      break\n",
        "    \n",
        "    game_count = game_count + 1\n",
        "  except:\n",
        "    print(\"에러가 발생했습니다. 숫자만 입력하세요\")\n"
      ]
    },
    {
      "cell_type": "markdown",
      "source": [
        "# Project02 컴퓨터 외부 및 내부 IP 확인하기"
      ],
      "metadata": {
        "id": "7SZEbTj_Lffs"
      }
    },
    {
      "cell_type": "markdown",
      "source": [
        "## 내부, 외부 IP 한 번에 출력하는 코드(p.85)"
      ],
      "metadata": {
        "id": "dNEJsKGtLigj"
      }
    },
    {
      "cell_type": "code",
      "source": [
        "# main2-4.py\n",
        "import socket\n",
        "import requests\n",
        "import re\n",
        "\n",
        "\n",
        "in_addr = socket.socket(socket.AF_INET, socket.SOCK_STREAM)\n",
        "in_addr.connect((\"www.google.co.kr\", 443))\n",
        "print(\"내부 IP: \", in_addr.getsockname()[0])\n",
        "\n",
        "# 책의 original code. 하지만 코랩에서는 ipconfig.kr이 동작하지 않는다.\n",
        "#req = requests.get(\"http://ipconfig.kr/\")  \n",
        "# 에러가 한글이 깨져서 나오는데 이를 출력하기위한 코드\n",
        "#req.raise_for_status()\n",
        "#req.encoding=\"EUC-KR\"\n",
        "#print(req.text)\n",
        "#out_addr = re.search(r'IP Address : (\\d{1,3}\\.\\d{1,3}\\.\\d{1,3}\\.\\d{1,3})', req.text)[1]\n",
        "\n",
        "# 코랩에서도 외부 아이피를 알기 위한 변경된 코드\n",
        "req = requests.get(\"https://www.myip.com/\")   \n",
        "# <span id=\"ip\">34.73.104.121</span> 와 같은 식으로 나타내기 때문에 이를 추출하도록 패턴 변경\n",
        "out_addr = re.search(r'<span id=\"ip\">(\\d{1,3}\\.\\d{1,3}\\.\\d{1,3}\\.\\d{1,3})</span>', req.text)[1]\n",
        "print(\"외부 IP: \", out_addr)\n"
      ],
      "metadata": {
        "colab": {
          "base_uri": "https://localhost:8080/"
        },
        "id": "7iJI66lvLngl",
        "outputId": "d6f85f29-935c-4fb6-e479-fcabd93773ab"
      },
      "execution_count": 26,
      "outputs": [
        {
          "output_type": "stream",
          "name": "stdout",
          "text": [
            "내부 IP:  172.28.0.2\n",
            "외부 IP:  34.73.104.121\n"
          ]
        }
      ]
    },
    {
      "cell_type": "code",
      "source": [
        ""
      ],
      "metadata": {
        "id": "gJvcTAlxOAiR"
      },
      "execution_count": null,
      "outputs": []
    },
    {
      "cell_type": "code",
      "source": [
        ""
      ],
      "metadata": {
        "id": "sctrufvzNswr"
      },
      "execution_count": null,
      "outputs": []
    },
    {
      "cell_type": "markdown",
      "source": [
        ""
      ],
      "metadata": {
        "id": "EXfr0WubLmh-"
      }
    }
  ]
}